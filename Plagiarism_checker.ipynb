{
  "nbformat": 4,
  "nbformat_minor": 0,
  "metadata": {
    "colab": {
      "provenance": []
    },
    "kernelspec": {
      "name": "python3",
      "display_name": "Python 3"
    },
    "language_info": {
      "name": "python"
    }
  },
  "cells": [
    {
      "cell_type": "code",
      "execution_count": null,
      "metadata": {
        "id": "vPzS4CzY3_-5"
      },
      "outputs": [],
      "source": [
        "# Import necessary modules!\n",
        "import os  # Module for interacting with the operating system\n",
        "from sklearn.feature_extraction.text import TfidfVectorizer  # Module for text vectorization using TF-IDF\n",
        "from sklearn.metrics.pairwise import cosine_similarity  # Module for calculating cosine similarity"
      ]
    },
    {
      "cell_type": "code",
      "source": [
        "# Get a list of all text files in the current directory\n",
        "student_files = [doc for doc in os.listdir() if doc.endswith('.txt')]"
      ],
      "metadata": {
        "id": "OKYeQdti4bGn"
      },
      "execution_count": null,
      "outputs": []
    },
    {
      "cell_type": "code",
      "source": [
        "student_files"
      ],
      "metadata": {
        "colab": {
          "base_uri": "https://localhost:8080/"
        },
        "id": "K_qacMOq6uyd",
        "outputId": "60a47dbf-f6b2-4e2b-e5dd-5c558167ca5b"
      },
      "execution_count": null,
      "outputs": [
        {
          "output_type": "execute_result",
          "data": {
            "text/plain": [
              "['Arthur.txt', 'Clark.txt', 'Ben.txt']"
            ]
          },
          "metadata": {},
          "execution_count": 17
        }
      ]
    },
    {
      "cell_type": "code",
      "source": [
        "# Read the contents of each student's text file\n",
        "student_notes = [open(_file, encoding='utf-8').read() for _file in student_files]"
      ],
      "metadata": {
        "id": "cUKGHm7z4qlI"
      },
      "execution_count": null,
      "outputs": []
    },
    {
      "cell_type": "code",
      "source": [
        "student_notes"
      ],
      "metadata": {
        "colab": {
          "base_uri": "https://localhost:8080/"
        },
        "id": "ZA9yf7nL6Xck",
        "outputId": "75417e51-1246-4ef3-fcac-cf5335d3aee7"
      },
      "execution_count": null,
      "outputs": [
        {
          "output_type": "execute_result",
          "data": {
            "text/plain": [
              "['Success can mean a variety of different things. Success is, quite simply, the accomplishment of a predetermined goal. To some people it could mean making money, cultivate and develop certain basic qualities, to others it could mean keeping everyone happy, but to me, it means achieving the goals and objective I have set for myself for my life. Besides working on your goals that would lead a person towards success it is very important to push your limit every day, take charge of your life, and keep learning. This experience enables us to think smartly to solve a critical problem and achieve success. It is very important to take care of your mind which could be done by eliminating negative thoughts and negative people from your life. I think in order to call something successful, both the result and the process should be great. Without success, you, the group, your company, your goals, dreams and even entire civilizations cease to survive.',\n",
              " 'Success is, quite simply, the accomplishment of a predetermined goal. Success is considered to be a term that describes two things. It also the combination of variety of different things. The first one is achievement of a certain major or minor goal. This could be succeeding in making a delicious dinner, or a more global thing succeeding in a career or job. The second definition of success is more broad and subjective. Success provides confidence, security, a sense of well-being, the ability to contribute at a greater level, hope and leadership. This experience enables us to think smartly to solve a critical problem and achieve success. Without success, you, the group, your company, your goals, dreams and even entire civilizations cease to survive.',\n",
              " 'In order to be successful one needs cultivate and develop certain basic qualities. Success is, quite simply, the accomplishment of a predetermined goal. We consciously or subconsciously set goals for ourselves all the time. First of all, you must know aim and objective of your life. Unless you know your destination, you cannot set out on a journey. At first, you must by very clear in your objectives to be achieved. Finally, you should enjoy the overall process rather than the final outcome. There is no shortcut to success. Hard work is the only key to achieving it; it teaches us discipline, dedication and determination. There is no single right way to be successful. What works for you might not work for someone else.']"
            ]
          },
          "metadata": {},
          "execution_count": 16
        }
      ]
    },
    {
      "cell_type": "code",
      "source": [
        "# Function to vectorize the text using TF-IDF\n",
        "def vectorize(Text):\n",
        "    return TfidfVectorizer().fit_transform(Text).toarray()"
      ],
      "metadata": {
        "id": "nArlFHTp4vr8"
      },
      "execution_count": null,
      "outputs": []
    },
    {
      "cell_type": "code",
      "source": [
        "# Function to calculate cosine similarity between two documents\n",
        "def similarity(doc1, doc2):\n",
        "    return cosine_similarity([doc1, doc2])"
      ],
      "metadata": {
        "id": "CvV1Vg5g4zOb"
      },
      "execution_count": null,
      "outputs": []
    },
    {
      "cell_type": "code",
      "source": [
        "# Vectorize the student notes using TF-IDF\n",
        "vectors = vectorize(student_notes)\n",
        "s_vectors = list(zip(student_files, vectors))\n",
        "plagiarism_results = set()"
      ],
      "metadata": {
        "id": "98JhYxEt405q"
      },
      "execution_count": null,
      "outputs": []
    },
    {
      "cell_type": "code",
      "source": [
        "s_vectors"
      ],
      "metadata": {
        "colab": {
          "base_uri": "https://localhost:8080/"
        },
        "id": "g3UDAaz464dk",
        "outputId": "b842c495-ccd8-4050-ff85-90df8883d88e"
      },
      "execution_count": null,
      "outputs": [
        {
          "output_type": "execute_result",
          "data": {
            "text/plain": [
              "[('Arthur.txt',\n",
              "  array([0.        , 0.04119088, 0.05304076, 0.        , 0.        ,\n",
              "         0.05304076, 0.        , 0.        , 0.        , 0.28833619,\n",
              "         0.        , 0.05304076, 0.08238177, 0.        , 0.06974223,\n",
              "         0.06974223, 0.        , 0.06974223, 0.05304076, 0.06974223,\n",
              "         0.06974223, 0.        , 0.06974223, 0.        , 0.05304076,\n",
              "         0.04119088, 0.06974223, 0.05304076, 0.        , 0.        ,\n",
              "         0.05304076, 0.        , 0.        , 0.        , 0.        ,\n",
              "         0.15912229, 0.05304076, 0.05304076, 0.06974223, 0.        ,\n",
              "         0.        , 0.        , 0.        , 0.        , 0.        ,\n",
              "         0.05304076, 0.05304076, 0.        , 0.        , 0.06974223,\n",
              "         0.05304076, 0.06974223, 0.        , 0.05304076, 0.        ,\n",
              "         0.05304076, 0.05304076, 0.06974223, 0.06974223, 0.05304076,\n",
              "         0.        , 0.        , 0.        , 0.10608153, 0.06974223,\n",
              "         0.        , 0.04119088, 0.12357265, 0.06974223, 0.        ,\n",
              "         0.05304076, 0.06974223, 0.        , 0.06974223, 0.        ,\n",
              "         0.13948446, 0.04119088, 0.12357265, 0.20595442, 0.        ,\n",
              "         0.        , 0.06974223, 0.06974223, 0.        , 0.        ,\n",
              "         0.06974223, 0.        , 0.06974223, 0.        , 0.15912229,\n",
              "         0.06974223, 0.        , 0.05304076, 0.06974223, 0.20922669,\n",
              "         0.06974223, 0.        , 0.06974223, 0.        , 0.06974223,\n",
              "         0.        , 0.        , 0.06974223, 0.06974223, 0.        ,\n",
              "         0.13948446, 0.        , 0.        , 0.05304076, 0.        ,\n",
              "         0.16476354, 0.05304076, 0.        , 0.        , 0.        ,\n",
              "         0.05304076, 0.06974223, 0.        , 0.        , 0.        ,\n",
              "         0.        , 0.13948446, 0.06974223, 0.04119088, 0.05304076,\n",
              "         0.05304076, 0.        , 0.06974223, 0.05304076, 0.04119088,\n",
              "         0.        , 0.06974223, 0.        , 0.        , 0.        ,\n",
              "         0.        , 0.05304076, 0.        , 0.05304076, 0.04119088,\n",
              "         0.        , 0.05304076, 0.05304076, 0.06974223, 0.        ,\n",
              "         0.06974223, 0.        , 0.        , 0.        , 0.20595442,\n",
              "         0.05304076, 0.05304076, 0.13948446, 0.        , 0.        ,\n",
              "         0.        , 0.05304076, 0.20595442, 0.        , 0.        ,\n",
              "         0.05304076, 0.10608153, 0.05304076, 0.06974223, 0.        ,\n",
              "         0.37071796, 0.06974223, 0.        , 0.        , 0.04119088,\n",
              "         0.05304076, 0.10608153, 0.        , 0.        , 0.        ,\n",
              "         0.        , 0.06974223, 0.05304076, 0.        , 0.06974223,\n",
              "         0.        , 0.06974223, 0.04119088, 0.28833619])),\n",
              " ('Clark.txt',\n",
              "  array([0.08785122, 0.05188635, 0.06681312, 0.        , 0.08785122,\n",
              "         0.        , 0.        , 0.        , 0.08785122, 0.20754539,\n",
              "         0.06681312, 0.        , 0.10377269, 0.08785122, 0.        ,\n",
              "         0.        , 0.08785122, 0.        , 0.        , 0.        ,\n",
              "         0.        , 0.        , 0.        , 0.08785122, 0.06681312,\n",
              "         0.05188635, 0.        , 0.06681312, 0.        , 0.08785122,\n",
              "         0.06681312, 0.08785122, 0.        , 0.08785122, 0.08785122,\n",
              "         0.06681312, 0.06681312, 0.        , 0.        , 0.        ,\n",
              "         0.08785122, 0.08785122, 0.08785122, 0.        , 0.        ,\n",
              "         0.        , 0.06681312, 0.08785122, 0.        , 0.        ,\n",
              "         0.06681312, 0.        , 0.        , 0.06681312, 0.        ,\n",
              "         0.06681312, 0.06681312, 0.        , 0.        , 0.06681312,\n",
              "         0.        , 0.        , 0.06681312, 0.        , 0.        ,\n",
              "         0.08785122, 0.10377269, 0.05188635, 0.        , 0.08785122,\n",
              "         0.06681312, 0.        , 0.        , 0.        , 0.08785122,\n",
              "         0.        , 0.10377269, 0.20754539, 0.05188635, 0.08785122,\n",
              "         0.        , 0.        , 0.        , 0.        , 0.        ,\n",
              "         0.        , 0.08785122, 0.        , 0.08785122, 0.        ,\n",
              "         0.        , 0.08785122, 0.06681312, 0.        , 0.        ,\n",
              "         0.        , 0.        , 0.        , 0.08785122, 0.        ,\n",
              "         0.17570244, 0.        , 0.        , 0.        , 0.        ,\n",
              "         0.        , 0.        , 0.        , 0.        , 0.        ,\n",
              "         0.31131808, 0.        , 0.06681312, 0.        , 0.20043935,\n",
              "         0.        , 0.        , 0.        , 0.        , 0.        ,\n",
              "         0.        , 0.        , 0.        , 0.05188635, 0.06681312,\n",
              "         0.        , 0.08785122, 0.        , 0.        , 0.05188635,\n",
              "         0.        , 0.        , 0.        , 0.08785122, 0.08785122,\n",
              "         0.08785122, 0.        , 0.        , 0.        , 0.05188635,\n",
              "         0.        , 0.06681312, 0.06681312, 0.        , 0.        ,\n",
              "         0.        , 0.        , 0.08785122, 0.17570244, 0.31131808,\n",
              "         0.        , 0.06681312, 0.        , 0.        , 0.08785122,\n",
              "         0.        , 0.06681312, 0.31131808, 0.        , 0.08785122,\n",
              "         0.13362624, 0.06681312, 0.13362624, 0.        , 0.        ,\n",
              "         0.25943173, 0.        , 0.08785122, 0.        , 0.05188635,\n",
              "         0.06681312, 0.        , 0.        , 0.        , 0.08785122,\n",
              "         0.        , 0.        , 0.06681312, 0.        , 0.        ,\n",
              "         0.        , 0.        , 0.05188635, 0.10377269])),\n",
              " ('Ben.txt',\n",
              "  array([0.        , 0.05000277, 0.        , 0.08466205, 0.        ,\n",
              "         0.06438767, 0.08466205, 0.16932409, 0.        , 0.1500083 ,\n",
              "         0.06438767, 0.06438767, 0.1500083 , 0.        , 0.        ,\n",
              "         0.        , 0.        , 0.        , 0.06438767, 0.        ,\n",
              "         0.        , 0.08466205, 0.        , 0.        , 0.        ,\n",
              "         0.05000277, 0.        , 0.        , 0.08466205, 0.        ,\n",
              "         0.        , 0.        , 0.08466205, 0.        , 0.        ,\n",
              "         0.        , 0.        , 0.06438767, 0.        , 0.08466205,\n",
              "         0.        , 0.        , 0.        , 0.08466205, 0.08466205,\n",
              "         0.06438767, 0.        , 0.        , 0.08466205, 0.        ,\n",
              "         0.        , 0.        , 0.08466205, 0.        , 0.08466205,\n",
              "         0.        , 0.        , 0.        , 0.        , 0.        ,\n",
              "         0.08466205, 0.08466205, 0.12877534, 0.193163  , 0.        ,\n",
              "         0.        , 0.05000277, 0.05000277, 0.        , 0.        ,\n",
              "         0.        , 0.        , 0.08466205, 0.        , 0.        ,\n",
              "         0.        , 0.10000554, 0.20001107, 0.10000554, 0.        ,\n",
              "         0.08466205, 0.        , 0.        , 0.08466205, 0.16932409,\n",
              "         0.        , 0.        , 0.        , 0.        , 0.06438767,\n",
              "         0.        , 0.        , 0.        , 0.        , 0.        ,\n",
              "         0.        , 0.08466205, 0.        , 0.        , 0.        ,\n",
              "         0.        , 0.16932409, 0.        , 0.        , 0.08466205,\n",
              "         0.        , 0.16932409, 0.08466205, 0.06438767, 0.08466205,\n",
              "         0.1500083 , 0.06438767, 0.06438767, 0.08466205, 0.06438767,\n",
              "         0.06438767, 0.        , 0.08466205, 0.08466205, 0.08466205,\n",
              "         0.08466205, 0.        , 0.        , 0.05000277, 0.        ,\n",
              "         0.06438767, 0.        , 0.        , 0.06438767, 0.05000277,\n",
              "         0.08466205, 0.        , 0.08466205, 0.        , 0.        ,\n",
              "         0.        , 0.12877534, 0.08466205, 0.06438767, 0.05000277,\n",
              "         0.08466205, 0.        , 0.        , 0.        , 0.08466205,\n",
              "         0.        , 0.08466205, 0.        , 0.        , 0.10000554,\n",
              "         0.12877534, 0.        , 0.        , 0.08466205, 0.        ,\n",
              "         0.08466205, 0.        , 0.25001384, 0.16932409, 0.        ,\n",
              "         0.        , 0.        , 0.        , 0.        , 0.08466205,\n",
              "         0.25001384, 0.        , 0.        , 0.08466205, 0.05000277,\n",
              "         0.        , 0.06438767, 0.08466205, 0.08466205, 0.        ,\n",
              "         0.08466205, 0.        , 0.        , 0.16932409, 0.        ,\n",
              "         0.08466205, 0.        , 0.30001661, 0.1500083 ]))]"
            ]
          },
          "metadata": {},
          "execution_count": 24
        }
      ]
    },
    {
      "cell_type": "code",
      "source": [
        "# Function to check plagiarism among the student notes\n",
        "def check_plagiarism():\n",
        "    global s_vectors\n",
        "    for student_a, text_vector_a in s_vectors:\n",
        "        new_vectors = s_vectors.copy()\n",
        "        current_index = new_vectors.index((student_a, text_vector_a))\n",
        "        del new_vectors[current_index]\n",
        "        for student_b, text_vector_b in new_vectors:\n",
        "            # Calculate cosine similarity between two text vectors\n",
        "            sim_score = similarity(text_vector_a, text_vector_b)[0][1]\n",
        "            # Sort the student file names alphabetically to avoid duplicates\n",
        "            student_pair = sorted((student_a, student_b))\n",
        "            # Create a tuple with student file names and similarity score\n",
        "            score = (student_pair[0], student_pair[1], sim_score)\n",
        "            # Add the tuple to plagiarism_results set\n",
        "            plagiarism_results.add(score)\n",
        "    return plagiarism_results"
      ],
      "metadata": {
        "id": "yoajif_B5AJu"
      },
      "execution_count": null,
      "outputs": []
    },
    {
      "cell_type": "code",
      "source": [
        "# Print the plagiarism results\n",
        "for data in check_plagiarism():\n",
        "    print(\"Similarity data:\\n\", data)"
      ],
      "metadata": {
        "colab": {
          "base_uri": "https://localhost:8080/"
        },
        "id": "yqnYTr4D5ESW",
        "outputId": "f1597e02-bbaa-476d-f83b-bcbc0da60417"
      },
      "execution_count": null,
      "outputs": [
        {
          "output_type": "stream",
          "name": "stdout",
          "text": [
            "Similarity data:\n",
            " ('Ben.txt', 'Clark.txt', np.float64(0.40890488440034695))\n",
            "Similarity data:\n",
            " ('Arthur.txt', 'Ben.txt', np.float64(0.4595329317649596))\n",
            "Similarity data:\n",
            " ('Arthur.txt', 'Clark.txt', np.float64(0.5430431121089816))\n"
          ]
        }
      ]
    }
  ]
}